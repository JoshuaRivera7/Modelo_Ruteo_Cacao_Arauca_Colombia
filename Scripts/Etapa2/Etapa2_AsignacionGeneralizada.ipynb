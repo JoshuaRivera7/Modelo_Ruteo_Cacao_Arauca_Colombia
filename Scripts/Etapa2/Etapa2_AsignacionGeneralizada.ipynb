{
  "nbformat": 4,
  "nbformat_minor": 0,
  "metadata": {
    "colab": {
      "provenance": [],
      "toc_visible": true
    },
    "kernelspec": {
      "name": "python3",
      "display_name": "Python 3"
    },
    "language_info": {
      "name": "python"
    }
  },
  "cells": [
    {
      "cell_type": "markdown",
      "source": [
        "# Modelo de Asignación Generalizada (GAP)"
      ],
      "metadata": {
        "id": "sEoJL5nkJIbj"
      }
    },
    {
      "cell_type": "code",
      "source": [
        "!python -m pip install -i https://pypi.gurobi.com gurobipy\n",
        "!pip install haversine"
      ],
      "metadata": {
        "colab": {
          "base_uri": "https://localhost:8080/"
        },
        "id": "2QHdHfTnHwwY",
        "outputId": "c8696ecf-11ac-436d-ae2c-d6beafbaf133"
      },
      "execution_count": 9,
      "outputs": [
        {
          "output_type": "stream",
          "name": "stdout",
          "text": [
            "Looking in indexes: https://pypi.gurobi.com, https://us-python.pkg.dev/colab-wheels/public/simple/\n",
            "Requirement already satisfied: gurobipy in /usr/local/lib/python3.8/dist-packages (10.0.0)\n",
            "Looking in indexes: https://pypi.org/simple, https://us-python.pkg.dev/colab-wheels/public/simple/\n",
            "Requirement already satisfied: haversine in /usr/local/lib/python3.8/dist-packages (2.7.0)\n"
          ]
        }
      ]
    },
    {
      "cell_type": "markdown",
      "source": [
        "## Implementación"
      ],
      "metadata": {
        "id": "lbfmhID3F7F3"
      }
    },
    {
      "cell_type": "code",
      "source": [
        "import random\n",
        "from gurobipy import*\n",
        "from haversine import haversine\n",
        "import numpy as np\n",
        "import pandas as pd\n",
        "\n",
        "# Cargar Datos\n",
        "coord_df = pd.read_excel('Coordenadas.xlsx', sheet_name = 'Hoja1')\n",
        "produccion = pd.read_excel('Produccion.xlsx', sheet_name = 'Hoja1')\n",
        "\n",
        "# Definir los conjuntos\n",
        "n = 180 # Número de fincas\n",
        "k = 11 # Número de clusters\n",
        "F = [i for i in range(n)] # Fincas\n",
        "K = [j for j in range(k)] # Clusters\n",
        "\n",
        "ejeX = list(coord_df['Longitud'])\n",
        "ejeY = list(coord_df['Latitud'])\n",
        "u = []\n",
        "for j in range(len(ejeX)):\n",
        "  u.append((ejeY[j], ejeX[j])) # Ubicación de cada finca\n",
        "centrosIniciales = [] # Asignar de forma aleatoria los k centroides a fincas existentes\n",
        "listaRand = random.sample(range(n), k)\n",
        "for aleAct in listaRand:\n",
        "  centrosIniciales.append(u[aleAct])\n",
        "\n",
        "# Definir los parámetros\n",
        "# Distancia entre cada finca y cada cluster (km)\n",
        "contFinca = 0\n",
        "d = {}\n",
        "for fincaAct in u:\n",
        "  contCentro = 0\n",
        "  for centro in centrosIniciales:\n",
        "    # Vector con las distancias entre la finca actual y todos los centroides actuales\n",
        "    d[(contFinca, contCentro)] = haversine(fincaAct, centro)\n",
        "    contCentro += 1\n",
        "  contFinca += 1\n",
        "\n",
        "# Producción de cada finca (ton)\n",
        "p = list(produccion['Producción'])\n",
        "\n",
        "# Capacidad máxima de producción de cada cluster (ton)\n",
        "#divi = (np.sum(p)/k)\n",
        "divi = 6000\n",
        "c = [divi for i in range(k)]\n",
        "\n",
        "# Crear el modelo\n",
        "modeloAsignacion = Model('SudokuMatematico')\n",
        "modeloAsignacion.setParam('OutputFlag', 0)\n",
        "\n",
        "# Crear las variables de decisión\n",
        "x = modeloAsignacion.addVars(F, K, vtype = GRB.BINARY)\n",
        "\n",
        "# Restricciones del Problema\n",
        "# La producción de las fincas no puede superar la capacidad de los clusters\n",
        "for j in K:\n",
        "  modeloAsignacion.addConstr(quicksum(x[i, j] * p[i] for i in F) <= c[j])\n",
        "# Cada finca sólo puede ser asignada a una única planta\n",
        "for i in F:\n",
        "  modeloAsignacion.addConstr(quicksum(x[i, j] for j in K) == 1)\n",
        "\n",
        "# Función Objetivo\n",
        "modeloAsignacion.setObjective(quicksum(x[i, j] * d[i, j] for i in F for j in K), GRB.MINIMIZE)\n",
        "\n",
        "# Resolver\n",
        "modeloAsignacion.optimize()"
      ],
      "metadata": {
        "id": "PPXP9kZNJMRH"
      },
      "execution_count": 10,
      "outputs": []
    },
    {
      "cell_type": "markdown",
      "source": [
        "## Resultados"
      ],
      "metadata": {
        "id": "MeuPcTBgHirz"
      }
    },
    {
      "cell_type": "markdown",
      "source": [
        "### Gráfica Clusters en el espacio"
      ],
      "metadata": {
        "id": "MveUc6BzBjDt"
      }
    },
    {
      "cell_type": "code",
      "source": [
        "import matplotlib.pyplot as plt\n",
        "\n",
        "# Imprimir los resultados\n",
        "print(f'Función Objetivo: {modeloAsignacion.getObjective().getValue()}')\n",
        "print('\\n')\n",
        "for j in K:\n",
        "  sumaFincas = 0\n",
        "  sumaProd = 0\n",
        "  for i in F:\n",
        "    if x[i, j].x == 1:\n",
        "      sumaFincas += x[i, j].x\n",
        "      sumaProd += p[i]\n",
        "  print(f'Coords cluster: {round(centrosIniciales[j][0], 3)}, {round(centrosIniciales[j][1], 3)} ----\\t Prod: {sumaProd}  ----\\t NFincas: {sumaFincas}')\n",
        "\n",
        "print('\\n')\n",
        "from matplotlib import markers\n",
        "f = plt.figure()\n",
        "f.set_figwidth(10)\n",
        "f.set_figheight(10)\n",
        "\n",
        "for j in K:\n",
        "  tuplaColor = (random.uniform(0, 1), random.uniform(0, 1), random.uniform(0, 1))\n",
        "  plt.scatter(centrosIniciales[j][1], centrosIniciales[j][0], color = tuplaColor, marker = \"^\", s = 200)\n",
        "  for i in F:\n",
        "    if x[i, j].x == 1:\n",
        "      plt.scatter(u[i][1], u[i][0], color = tuplaColor, marker = \".\", s = 50)\n",
        "\n",
        "plt.xlabel('Longitud', fontsize = 15)\n",
        "plt.ylabel('Latitud', fontsize = 15)\n",
        "plt.title('Ubicación de 11 clusters en el espacio', fontsize = 20)\n",
        "plt.show()"
      ],
      "metadata": {
        "colab": {
          "base_uri": "https://localhost:8080/",
          "height": 911
        },
        "id": "OIEaaltbHl6G",
        "outputId": "8c475593-f3dc-4d70-fcb4-bd8f916487e0"
      },
      "execution_count": 11,
      "outputs": [
        {
          "output_type": "stream",
          "name": "stdout",
          "text": [
            "Función Objetivo: 1412.375304957286\n",
            "\n",
            "\n",
            "Coords cluster: 6.894, -71.746 ----\t Prod: 50  ----\t NFincas: 10.0\n",
            "Coords cluster: 6.704, -71.712 ----\t Prod: 195  ----\t NFincas: 34.0\n",
            "Coords cluster: 6.583, -71.498 ----\t Prod: 106  ----\t NFincas: 19.0\n",
            "Coords cluster: 7.006, -71.823 ----\t Prod: 240  ----\t NFincas: 40.0\n",
            "Coords cluster: 6.947, -71.241 ----\t Prod: 110  ----\t NFincas: 22.0\n",
            "Coords cluster: 6.934, -71.108 ----\t Prod: 27  ----\t NFincas: 4.0\n",
            "Coords cluster: 6.973, -71.142 ----\t Prod: 61  ----\t NFincas: 12.0\n",
            "Coords cluster: 6.676, -71.224 ----\t Prod: 39  ----\t NFincas: 7.0\n",
            "Coords cluster: 6.661, -71.581 ----\t Prod: 149  ----\t NFincas: 26.0\n",
            "Coords cluster: 6.895, -71.749 ----\t Prod: 8  ----\t NFincas: 2.0\n",
            "Coords cluster: 6.936, -71.11 ----\t Prod: 28  ----\t NFincas: 4.0\n",
            "\n",
            "\n"
          ]
        },
        {
          "output_type": "display_data",
          "data": {
            "text/plain": [
              "<Figure size 720x720 with 1 Axes>"
            ],
            "image/png": "[encoded data removed]"
          },
          "metadata": {
            "needs_background": "light"
          }
        }
      ]
    },
    {
      "cell_type": "markdown",
      "source": [
        "### Gráfica Suma de Errores [Distancias]"
      ],
      "metadata": {
        "id": "6rsp0iqZBx0f"
      }
    },
    {
      "cell_type": "code",
      "source": [
        "import random\n",
        "from gurobipy import*\n",
        "from haversine import haversine\n",
        "import numpy as np\n",
        "import pandas as pd\n",
        "distVector = []\n",
        "kMax = 12\n",
        "# Cargar Datos\n",
        "coord_df = pd.read_excel('Coordenadas.xlsx', sheet_name = 'Hoja1')\n",
        "produccion = pd.read_excel('Produccion.xlsx', sheet_name = 'Hoja1')\n",
        "for k in range(2, kMax):\n",
        "  # Definir los conjuntos\n",
        "  n = 180 # Número de fincas\n",
        "  F = [i for i in range(n)] # Fincas\n",
        "  K = [j for j in range(k)] # Clusters\n",
        "\n",
        "  u = []\n",
        "  for j in range(len(ejeX)):\n",
        "    u.append((ejeY[j], ejeX[j])) # Ubicación de cada finca\n",
        "  centrosIniciales = [] # Asignar de forma aleatoria los k centroides a fincas existentes\n",
        "  listaRand = random.sample(range(n), k)\n",
        "  for aleAct in listaRand:\n",
        "    centrosIniciales.append(u[aleAct])\n",
        "\n",
        "  # Definir los parámetros\n",
        "  # Distancia entre cada finca y cada cluster (km)\n",
        "  contFinca = 0\n",
        "  d = {}\n",
        "  for fincaAct in u:\n",
        "    contCentro = 0\n",
        "    for centro in centrosIniciales:\n",
        "      # Vector con las distancias entre la finca actual y todos los centroides actuales\n",
        "      d[(contFinca, contCentro)] = haversine(fincaAct, centro)\n",
        "      contCentro += 1\n",
        "    contFinca += 1\n",
        "\n",
        "  # Producción de cada finca (ton)\n",
        "  p = list(produccion['Producción'])\n",
        "\n",
        "  # Capacidad máxima de producción de cada cluster (ton)\n",
        "  #divi = (np.sum(p)/k)\n",
        "  divi = 100000\n",
        "  c = [divi for i in range(k)]\n",
        "\n",
        "  # Crear el modelo\n",
        "  modeloAsignacion = Model('SudokuMatematico')\n",
        "  modeloAsignacion.setParam('OutputFlag', 0)\n",
        "\n",
        "  # Crear las variables de decisión\n",
        "  x = modeloAsignacion.addVars(F, K, vtype = GRB.BINARY)\n",
        "\n",
        "  # Restricciones del Problema\n",
        "  # La producción de las fincas no puede superar la capacidad de los clusters\n",
        "  for j in K:\n",
        "    modeloAsignacion.addConstr(quicksum(x[i, j] * p[i] for i in F) <= c[j])\n",
        "  # Cada finca sólo puede ser asignada a una única planta\n",
        "  for i in F:\n",
        "    modeloAsignacion.addConstr(quicksum(x[i, j] for j in K) == 1)\n",
        "\n",
        "  # Función Objetivo\n",
        "  modeloAsignacion.setObjective(quicksum(x[i, j] * d[i, j] for i in F for j in K), GRB.MINIMIZE)\n",
        "\n",
        "  # Resolver\n",
        "  modeloAsignacion.optimize()\n",
        "\n",
        "  # Vector de distancias\n",
        "  distVector.append(modeloAsignacion.getObjective().getValue())\n",
        "\n",
        "# Graficar\n",
        "f = plt.figure()\n",
        "f.set_figwidth(10)\n",
        "f.set_figheight(10)\n",
        "plt.scatter([i for i in range(2, kMax)], distVector)\n",
        "plt.plot([i for i in range(2, kMax)], distVector)\n",
        "plt.xlabel('K')\n",
        "plt.ylabel('Distancia')\n",
        "plt.title('Suma de Errores por cada valor de K')\n",
        "plt.show()"
      ],
      "metadata": {
        "colab": {
          "base_uri": "https://localhost:8080/",
          "height": 621
        },
        "id": "fY67lK7XCCf1",
        "outputId": "774258d0-37d5-42d2-fd4b-79c3248f0052"
      },
      "execution_count": 12,
      "outputs": [
        {
          "output_type": "display_data",
          "data": {
            "text/plain": [
              "<Figure size 720x720 with 1 Axes>"
            ],
            "image/png": "[encoded data removed]"
          },
          "metadata": {
            "needs_background": "light"
          }
        }
      ]
    },
    {
      "cell_type": "markdown",
      "source": [
        "### Gráfica Coeficientes de Silhouette"
      ],
      "metadata": {
        "id": "_KC-FjqaByNf"
      }
    },
    {
      "cell_type": "code",
      "source": [
        "kMax = 11\n",
        "silhouette = []\n",
        "for k in range(2, kMax+1):\n",
        "  # Definir los conjuntos\n",
        "  n = 180 # Número de fincas\n",
        "  F = [i for i in range(n)] # Fincas\n",
        "  K = [j for j in range(k)] # Clusters\n",
        "\n",
        "  u = []\n",
        "  for j in range(len(ejeX)):\n",
        "    u.append((ejeY[j], ejeX[j])) # Ubicación de cada finca\n",
        "  centrosIniciales = [] # Asignar de forma aleatoria los k centroides a fincas existentes\n",
        "  listaRand = random.sample(range(n), k)\n",
        "  for aleAct in listaRand:\n",
        "    centrosIniciales.append(u[aleAct])\n",
        "\n",
        "  # Definir los parámetros\n",
        "  # Distancia entre cada finca y cada cluster (km)\n",
        "  contFinca = 0\n",
        "  d = {}\n",
        "  for fincaAct in u:\n",
        "    contCentro = 0\n",
        "    for centro in centrosIniciales:\n",
        "      # Vector con las distancias entre la finca actual y todos los centroides actuales\n",
        "      d[(contFinca, contCentro)] = haversine(fincaAct, centro)\n",
        "      contCentro += 1\n",
        "    contFinca += 1\n",
        "\n",
        "  # Producción de cada finca (ton)\n",
        "  p = list(produccion['Producción'])\n",
        "\n",
        "  # Capacidad máxima de producción de cada cluster (ton)\n",
        "  #divi = (np.sum(p)/k)\n",
        "  divi = 100000\n",
        "  c = [divi for i in range(k)]\n",
        "\n",
        "  # Crear el modelo\n",
        "  modeloAsignacion = Model('SudokuMatematico')\n",
        "  modeloAsignacion.setParam('OutputFlag', 0)\n",
        "\n",
        "  # Crear las variables de decisión\n",
        "  x = modeloAsignacion.addVars(F, K, vtype = GRB.BINARY)\n",
        "\n",
        "  # Restricciones del Problema\n",
        "  # La producción de las fincas no puede superar la capacidad de los clusters\n",
        "  for j in K:\n",
        "    modeloAsignacion.addConstr(quicksum(x[i, j] * p[i] for i in F) <= c[j])\n",
        "  # Cada finca sólo puede ser asignada a una única planta\n",
        "  for i in F:\n",
        "    modeloAsignacion.addConstr(quicksum(x[i, j] for j in K) == 1)\n",
        "\n",
        "  # Función Objetivo\n",
        "  modeloAsignacion.setObjective(quicksum(x[i, j] * d[i, j] for i in F for j in K), GRB.MINIMIZE)\n",
        "\n",
        "  # Resolver\n",
        "  modeloAsignacion.optimize()\n",
        "\n",
        "  # ======================================================= #\n",
        "  # ================ MÉTRICA DE SILHOUETTE ================ #\n",
        "  # ======================================================= #\n",
        "\n",
        "  # Guardar asignaciones actuales en una lista con coordenadas\n",
        "  dictAsignacion = {}\n",
        "  for j in K:\n",
        "    dictAsignacion[j] = []\n",
        "    for i in F:\n",
        "      if x[i, j].x == 1:\n",
        "        dictAsignacion[j].append(i) # Coordenada con (Cluster, Finca)\n",
        "\n",
        "  vectA = []\n",
        "  # Cálculo de la cohesión (a(i))\n",
        "  for j in K:\n",
        "    listaFincasAct = dictAsignacion[j] # Lista de las fincas asignadas al cluster actual\n",
        "    nFincas = len(listaFincasAct) - 1 # Cantidad de fincas para promediar la distancia (sin contar la actual)\n",
        "    if nFincas > 0:\n",
        "      for fincaAct in listaFincasAct: # Doble recorrido para calcular distancia entre cada finca y el resto en el cluster\n",
        "        sumaDistancias = 0\n",
        "        for finca in listaFincasAct:\n",
        "          sumaDistancias += haversine(u[fincaAct], u[finca])\n",
        "        promedioDist = sumaDistancias / nFincas # Promediar la distancia de cada finca a las demás \n",
        "        vectA.append((fincaAct, promedioDist))\n",
        "\n",
        "  vectB = []\n",
        "  # Cálculo de la separación (b(i))\n",
        "  for j in K:\n",
        "    listaFincasAct = dictAsignacion[j] # Lista de las fincas asignadas al cluster actual\n",
        "    for fincaAct in listaFincasAct: # Finca actual evaluada en relación con las demás de los away clusters\n",
        "      listaPromedios = []\n",
        "      for p in K: # Recorrer los otros clusters formados\n",
        "        if p != j:\n",
        "          sumaDistanciasCluster = 0 \n",
        "          listaFincasAwayCluster = dictAsignacion[p] # Lista de las fincas asignadas a cada cluster diferente al actual\n",
        "          nFincas = len(listaFincasAwayCluster) # Cantidad de fincas para promediar la distancia en el away cluster\n",
        "          for finca in listaFincasAwayCluster:\n",
        "            sumaDistanciasCluster += haversine(u[fincaAct], u[finca])\n",
        "          promedioDistCluster = sumaDistanciasCluster / nFincas # Promediar la distancia de cada finca a las demás \n",
        "          listaPromedios.append(promedioDistCluster) # Agregar el promedio de distancia de la finca actual a las fincas en el away cluster\n",
        "      # Se guarda el mínimo de promedios entre la finca actual y los away clusters evaluados\n",
        "      vectB.append((fincaAct, min(listaPromedios)))\n",
        "\n",
        "  # Coeficiente de Silhouette por cada finca\n",
        "  coefSilhouFincas = []\n",
        "  suma = 0\n",
        "  for fink in range(len(vectA)):\n",
        "    a = vectA[fink][1]\n",
        "    b = vectB[fink][1]\n",
        "    c_i = (b - a) / max(a, b)\n",
        "    coefSilhouFincas.append(c_i)\n",
        "\n",
        "  # Coeficiente de Silhouette de la iteración actual\n",
        "  silhouette.append((sum(coefSilhouFincas)/len(coefSilhouFincas)))\n",
        "\n",
        "print('Coeficientes de silhouette:')\n",
        "p = 0\n",
        "for k in range(2, kMax+1):\n",
        "  print(f'K = {k} -> coeficiente = {silhouette[p]}')\n",
        "  p += 1\n",
        "print('\\n')\n",
        "\n",
        "je = 0\n",
        "for a in silhouette:\n",
        "  if a > 0.5:\n",
        "    je += 1\n",
        "print('Porcentaje de clusters que superan el 5%: ', je/len(silhouette))\n",
        "print('\\n')\n",
        "\n",
        "# Gráfica del Coeficiente para cada K\n",
        "ks = [k for k in range(2, 12)]\n",
        "f = plt.figure()\n",
        "f.set_figwidth(10)\n",
        "f.set_figheight(7)\n",
        "plt.bar(ks, silhouette, color ='darkorange', width = 0.4)\n",
        "plt.xlabel('Número de Clusters K', fontsize = 15)\n",
        "plt.ylabel('Valor del Coeficiente', fontsize = 15)\n",
        "plt.title('Coeficiente de Silhouette por cada valor de K', fontsize = 20)\n",
        "plt.show()"
      ],
      "metadata": {
        "colab": {
          "base_uri": "https://localhost:8080/",
          "height": 746
        },
        "id": "cu2fPl_UCC1B",
        "outputId": "8a1d335d-4de9-421e-b758-e5c9d1b08f18"
      },
      "execution_count": 13,
      "outputs": [
        {
          "output_type": "stream",
          "name": "stdout",
          "text": [
            "Coeficientes de silhouette:\n",
            "K = 2 -> coeficiente = 0.4657148679655367\n",
            "K = 3 -> coeficiente = 0.3036577768742392\n",
            "K = 4 -> coeficiente = 0.2267057925927844\n",
            "K = 5 -> coeficiente = 0.4425468537649251\n",
            "K = 6 -> coeficiente = 0.4007100309529969\n",
            "K = 7 -> coeficiente = 0.16635446405286097\n",
            "K = 8 -> coeficiente = 0.2999928280508717\n",
            "K = 9 -> coeficiente = 0.20803766809038507\n",
            "K = 10 -> coeficiente = 0.3357583238963849\n",
            "K = 11 -> coeficiente = 0.18992288181087932\n",
            "\n",
            "\n",
            "Porcentaje de clusters que superan el 5%:  0.0\n",
            "\n",
            "\n"
          ]
        },
        {
          "output_type": "display_data",
          "data": {
            "text/plain": [
              "<Figure size 720x504 with 1 Axes>"
            ],
            "image/png": "[encoded data removed]"
          },
          "metadata": {
            "needs_background": "light"
          }
        }
      ]
    }
  ]
}