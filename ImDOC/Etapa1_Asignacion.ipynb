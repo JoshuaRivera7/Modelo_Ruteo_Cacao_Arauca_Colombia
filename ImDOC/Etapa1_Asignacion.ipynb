{
  "nbformat": 4,
  "nbformat_minor": 0,
  "metadata": {
    "colab": {
      "provenance": []
    },
    "kernelspec": {
      "name": "python3",
      "display_name": "Python 3"
    },
    "language_info": {
      "name": "python"
    }
  },
  "cells": [
    {
      "cell_type": "markdown",
      "source": [
        "# Modelo de Asignación"
      ],
      "metadata": {
        "id": "QONfEwTE_4ME"
      }
    },
    {
      "cell_type": "markdown",
      "source": [
        "## Implementación"
      ],
      "metadata": {
        "id": "tTKHi9nNAkw4"
      }
    },
    {
      "cell_type": "code",
      "source": [
        "!python -m pip install -i https://pypi.gurobi.com gurobipy\n",
        "!pip install haversine\n",
        "\n",
        "from haversine import haversine\n",
        "from gurobipy import*\n",
        "import pandas as pd\n",
        "\n",
        "# Cargar Datos\n",
        "coord_df = pd.read_excel('Coordenadas.xlsx', sheet_name = 'Hoja1')\n",
        "produccion = pd.read_excel('Produccion.xlsx', sheet_name = 'Hoja1')\n",
        "ejeX = list(coord_df['Longitud'])\n",
        "ejeY = list(coord_df['Latitud'])\n",
        "u = []\n",
        "for j in range(len(ejeX)):\n",
        "  u.append((ejeY[j], ejeX[j])) # Ubicación de cada finca\n",
        "\n",
        "# Definir los conjuntos\n",
        "n = 180 # Número de fincas\n",
        "m = 2 # Número de plantas postcosecha\n",
        "F = [i for i in range(n)] # Fincas\n",
        "P = [j for j in range(m)] # Plantas\n",
        "\n",
        "# Definir los parámetros\n",
        "# Distancia entre cada finca y cada planta post cosecha (km)\n",
        "centrosIniciales = [(7.019472, -71.384889), (6.6, -71.65)]\n",
        "contFinca = 0\n",
        "d = {}\n",
        "for fincaAct in u:\n",
        "  contCentro = 0\n",
        "  for centro in centrosIniciales:\n",
        "    # Vector con las distancias entre la finca actual y cada planta post cosecha\n",
        "    d[(contFinca, contCentro)] = haversine(fincaAct, centro)\n",
        "    contCentro += 1\n",
        "  contFinca += 1\n",
        "\n",
        "\n",
        "# Capacidad de procesamiento de cada planta (ton)\n",
        "c = [1300, 600]\n",
        "\n",
        "# Producción de cada finca (ton)\n",
        "p = list(produccion['Producción'])\n",
        "\n",
        "# Crear el modelo\n",
        "modeloAsignacion = Model('Asignación')\n",
        "\n",
        "# Crear las variables de decisión\n",
        "x = modeloAsignacion.addVars(F, P, vtype = GRB.BINARY)\n",
        "\n",
        "# Restricciones del Problema\n",
        "# La producción de las fincas no puede superar la capacidad de las plantas\n",
        "for j in P:\n",
        "  modeloAsignacion.addConstr(quicksum(x[i, j] * p[i] for i in F) <= c[j])\n",
        "# Cada finca sólo puede ser asignada a una única planta\n",
        "for i in F:\n",
        "  modeloAsignacion.addConstr(quicksum(x[i, j] for j in P) == 1)\n",
        "\n",
        "# Función Objetivo\n",
        "modeloAsignacion.setObjective(quicksum(x[i, j] * d[i, j] for i in F for j in P), GRB.MINIMIZE)\n",
        "\n",
        "# Resolver\n",
        "modeloAsignacion.optimize()\n",
        "print('\\n')"
      ],
      "metadata": {
        "id": "jg-MH5fUEO_m",
        "colab": {
          "base_uri": "https://localhost:8080/"
        },
        "outputId": "281879d4-ea2b-4b63-992d-eef84c66ed14"
      },
      "execution_count": 1,
      "outputs": [
        {
          "output_type": "stream",
          "name": "stdout",
          "text": [
            "Looking in indexes: https://pypi.gurobi.com, https://us-python.pkg.dev/colab-wheels/public/simple/\n",
            "Collecting gurobipy\n",
            "  Downloading gurobipy-10.0.0-cp38-cp38-manylinux2014_x86_64.whl (12.8 MB)\n",
            "\u001b[K     |████████████████████████████████| 12.8 MB 7.5 MB/s \n",
            "\u001b[?25hInstalling collected packages: gurobipy\n",
            "Successfully installed gurobipy-10.0.0\n",
            "Looking in indexes: https://pypi.org/simple, https://us-python.pkg.dev/colab-wheels/public/simple/\n",
            "Collecting haversine\n",
            "  Downloading haversine-2.7.0-py2.py3-none-any.whl (6.9 kB)\n",
            "Installing collected packages: haversine\n",
            "Successfully installed haversine-2.7.0\n",
            "Restricted license - for non-production use only - expires 2024-10-28\n",
            "Gurobi Optimizer version 10.0.0 build v10.0.0rc2 (linux64)\n",
            "\n",
            "CPU model: Intel(R) Xeon(R) CPU @ 2.20GHz, instruction set [SSE2|AVX|AVX2]\n",
            "Thread count: 1 physical cores, 2 logical processors, using up to 2 threads\n",
            "\n",
            "Optimize a model with 182 rows, 360 columns and 720 nonzeros\n",
            "Model fingerprint: 0x5ace6674\n",
            "Variable types: 0 continuous, 360 integer (360 binary)\n",
            "Coefficient statistics:\n",
            "  Matrix range     [1e+00, 1e+01]\n",
            "  Objective range  [8e-01, 7e+01]\n",
            "  Bounds range     [1e+00, 1e+00]\n",
            "  RHS range        [1e+00, 1e+03]\n",
            "Found heuristic solution: objective 6914.5418037\n",
            "Presolve removed 182 rows and 360 columns\n",
            "Presolve time: 0.00s\n",
            "Presolve: All rows and columns removed\n",
            "\n",
            "Explored 0 nodes (0 simplex iterations) in 0.02 seconds (0.00 work units)\n",
            "Thread count was 1 (of 2 available processors)\n",
            "\n",
            "Solution count 2: 4714.9 6914.54 \n",
            "\n",
            "Optimal solution found (tolerance 1.00e-04)\n",
            "Best objective 4.714898200083e+03, best bound 4.714898200083e+03, gap 0.0000%\n",
            "\n",
            "\n"
          ]
        }
      ]
    },
    {
      "cell_type": "markdown",
      "source": [
        "## Resultados"
      ],
      "metadata": {
        "id": "OJcK59nGbgSv"
      }
    },
    {
      "cell_type": "code",
      "source": [
        "import matplotlib.pyplot as plt\n",
        "\n",
        "# Imprimir y graficar los resultados\n",
        "print(f'Función Objetivo: {modeloAsignacion.getObjective().getValue()}')\n",
        "print('\\n')\n",
        "for j in P:  \n",
        "  cP = 0\n",
        "  for i in F:\n",
        "    if x[i, j].x == 1:\n",
        "      cP += 1\n",
        "  print(f'Total Fincas Planta {j+1} = {cP}')\n",
        "  print('\\n')  \n",
        "\n",
        "\n",
        "f = plt.figure()\n",
        "f.set_figwidth(10)\n",
        "f.set_figheight(10)\n",
        "\n",
        "colores = ('green', 'orange')\n",
        "for j in P:\n",
        "  for i in F:\n",
        "    if x[i, j].x == 1:\n",
        "      plt.scatter(u[i][1], u[i][0], color = colores[j], marker = \".\", s = 50)\n",
        "\n",
        "plt.xlabel('Longitud', fontsize = 15)\n",
        "plt.ylabel('Latitud', fontsize = 15)\n",
        "plt.title('Ubicación de fincas asignadas a cada planta', fontsize = 20)\n",
        "plt.scatter(centrosIniciales[0][1], centrosIniciales[0][0], color = (240/255, 0/255, 255/255), marker = \"^\", s = 250)\n",
        "plt.annotate('Central 1', (-71.374889, 7.029472), fontsize = 13)\n",
        "plt.scatter(centrosIniciales[1][1], centrosIniciales[1][0], color = (240/255, 0/255, 255/255), marker = \"^\", s = 250)\n",
        "plt.annotate('Central 2', (-71.645, 6.605), fontsize = 13)\n",
        "plt.show()"
      ],
      "metadata": {
        "colab": {
          "base_uri": "https://localhost:8080/",
          "height": 789
        },
        "id": "Ekg5u5UqbfxE",
        "outputId": "062122fc-21c8-4f6f-ca6a-7081a1f7b20c"
      },
      "execution_count": 2,
      "outputs": [
        {
          "output_type": "stream",
          "name": "stdout",
          "text": [
            "Función Objetivo: 4714.898200083451\n",
            "\n",
            "\n",
            "Total Fincas Planta 1 = 85\n",
            "\n",
            "\n",
            "Total Fincas Planta 2 = 95\n",
            "\n",
            "\n"
          ]
        },
        {
          "output_type": "display_data",
          "data": {
            "text/plain": [
              "<Figure size 720x720 with 1 Axes>"
            ],
            "image/png": "[encoded data removed]"
          },
          "metadata": {
            "needs_background": "light"
          }
        }
      ]
    }
  ]
}