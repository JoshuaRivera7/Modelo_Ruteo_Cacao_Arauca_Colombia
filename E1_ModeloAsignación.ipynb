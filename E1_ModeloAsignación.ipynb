{
  "nbformat": 4,
  "nbformat_minor": 0,
  "metadata": {
    "colab": {
      "provenance": [],
      "toc_visible": true
    },
    "kernelspec": {
      "name": "python3",
      "display_name": "Python 3"
    },
    "language_info": {
      "name": "python"
    }
  },
  "cells": [
    {
      "cell_type": "markdown",
      "source": [
        "# Modelo de Asignación"
      ],
      "metadata": {
        "id": "QONfEwTE_4ME"
      }
    },
    {
      "cell_type": "markdown",
      "source": [
        "## Implementación"
      ],
      "metadata": {
        "id": "tTKHi9nNAkw4"
      }
    },
    {
      "cell_type": "code",
      "source": [
        "!python -m pip install -i https://pypi.gurobi.com gurobipy\n",
        "!pip install haversine\n",
        "\n",
        "from haversine import haversine\n",
        "from gurobipy import*\n",
        "import pandas as pd\n",
        "\n",
        "# Cargar Datos\n",
        "coord_df = pd.read_excel('Coordenadas.xlsx', sheet_name = 'Hoja1')\n",
        "produccion = pd.read_excel('Produccion.xlsx', sheet_name = 'Hoja1')\n",
        "ejeX = list(coord_df['Longitud'])\n",
        "ejeY = list(coord_df['Latitud'])\n",
        "u = []\n",
        "for j in range(len(ejeX)):\n",
        "  u.append((ejeY[j], ejeX[j])) # Ubicación de cada finca\n",
        "\n",
        "# Definir los conjuntos\n",
        "n = 180 # Número de fincas\n",
        "m = 2 # Número de plantas postcosecha\n",
        "F = [i for i in range(n)] # Fincas\n",
        "P = [j for j in range(m)] # Plantas\n",
        "\n",
        "# Definir los parámetros\n",
        "# Distancia entre cada finca y cada planta post cosecha (km)\n",
        "centrosIniciales = [(7.019472, -71.384889), (6.6, -71.65)]\n",
        "contFinca = 0\n",
        "d = {}\n",
        "for fincaAct in u:\n",
        "  contCentro = 0\n",
        "  for centro in centrosIniciales:\n",
        "    # Vector con las distancias entre la finca actual y cada planta post cosecha\n",
        "    d[(contFinca, contCentro)] = haversine(fincaAct, centro)\n",
        "    contCentro += 1\n",
        "  contFinca += 1\n",
        "\n",
        "\n",
        "# Capacidad de procesamiento de cada planta (ton)\n",
        "c = [1300, 600]\n",
        "\n",
        "# Producción de cada finca (ton)\n",
        "p = list(produccion['Producción'])\n",
        "\n",
        "# Crear el modelo\n",
        "modeloAsignacion = Model('Asignación')\n",
        "\n",
        "# Crear las variables de decisión\n",
        "x = modeloAsignacion.addVars(F, P, vtype = GRB.BINARY)\n",
        "\n",
        "# Restricciones del Problema\n",
        "# La producción de las fincas no puede superar la capacidad de las plantas\n",
        "for j in P:\n",
        "  modeloAsignacion.addConstr(quicksum(x[i, j] * p[i] for i in F) <= c[j])\n",
        "# Cada finca sólo puede ser asignada a una única planta\n",
        "for i in F:\n",
        "  modeloAsignacion.addConstr(quicksum(x[i, j] for j in P) == 1)\n",
        "\n",
        "# Función Objetivo\n",
        "modeloAsignacion.setObjective(quicksum(x[i, j] * d[i, j] for i in F for j in P), GRB.MINIMIZE)\n",
        "\n",
        "# Resolver\n",
        "modeloAsignacion.optimize()\n",
        "print('\\n')"
      ],
      "metadata": {
        "id": "jg-MH5fUEO_m"
      },
      "execution_count": null,
      "outputs": []
    },
    {
      "cell_type": "markdown",
      "source": [
        "## Resultados"
      ],
      "metadata": {
        "id": "OJcK59nGbgSv"
      }
    },
    {
      "cell_type": "code",
      "source": [
        "import matplotlib.pyplot as plt\n",
        "\n",
        "# Imprimir y graficar los resultados\n",
        "print(f'Función Objetivo: {modeloAsignacion.getObjective().getValue()}')\n",
        "print('\\n')\n",
        "for j in P:  \n",
        "  cP = 0\n",
        "  for i in F:\n",
        "    if x[i, j].x == 1:\n",
        "      cP += 1\n",
        "  print(f'Total Fincas Planta {j+1} = {cP}')\n",
        "  print('\\n')  \n",
        "\n",
        "\n",
        "f = plt.figure()\n",
        "f.set_figwidth(10)\n",
        "f.set_figheight(10)\n",
        "\n",
        "colores = ('green', 'orange')\n",
        "for j in P:\n",
        "  for i in F:\n",
        "    if x[i, j].x == 1:\n",
        "      plt.scatter(u[i][1], u[i][0], color = colores[j], marker = \".\", s = 50)\n",
        "\n",
        "plt.xlabel('Longitud', fontsize = 15)\n",
        "plt.ylabel('Latitud', fontsize = 15)\n",
        "plt.title('Ubicación de fincas asignadas a cada planta', fontsize = 20)\n",
        "plt.show()"
      ],
      "metadata": {
        "colab": {
          "base_uri": "https://localhost:8080/",
          "height": 789
        },
        "id": "Ekg5u5UqbfxE",
        "outputId": "21e09f72-8c48-47c4-b956-e6bff74f2047"
      },
      "execution_count": null,
      "outputs": [
        {
          "output_type": "stream",
          "name": "stdout",
          "text": [
            "Función Objetivo: 4423.970573661352\n",
            "\n",
            "\n",
            "Total Fincas Planta 1 = 99\n",
            "\n",
            "\n",
            "Total Fincas Planta 2 = 81\n",
            "\n",
            "\n"
          ]
        },
        {
          "output_type": "display_data",
          "data": {
            "text/plain": [
              "<Figure size 720x720 with 1 Axes>"
            ],
            "image/png": "[encoded data removed]"
          },
          "metadata": {
            "needs_background": "light"
          }
        }
      ]
    }
  ]
}